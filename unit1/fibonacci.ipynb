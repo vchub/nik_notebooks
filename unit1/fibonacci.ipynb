{
 "cells": [
  {
   "cell_type": "markdown",
   "metadata": {},
   "source": [
    "## Task: создать функцию, которая возвращает n первых факториалов\n",
    "    \n",
    "    fact(4)\n",
    "    \n",
    "    [1, 1, 2, 6, 24]"
   ]
  },
  {
   "cell_type": "code",
   "execution_count": null,
   "metadata": {},
   "outputs": [],
   "source": [
    "import unittest"
   ]
  },
  {
   "cell_type": "code",
   "execution_count": 10,
   "metadata": {
    "collapsed": true
   },
   "outputs": [],
   "source": [
    "class TestFact(unittest.TestCase):\n",
    "    \"\"\"test factorial functions\"\"\"\n",
    "    \n",
    "    def test1(self):\n",
    "        self.assertEqual(fact(0), [1]) \n",
    "        self.assertEqual(fact(1), [1, 1]) \n",
    "        self.assertEqual(fact(2), [1, 1, 2]) \n",
    "        self.assertEqual(fact(3), [1, 1, 2, 6]) \n",
    "        self.assertEqual(fact(5), [1, 1, 2, 6, 24, 120]) "
   ]
  },
  {
   "cell_type": "code",
   "execution_count": 2,
   "metadata": {},
   "outputs": [],
   "source": [
    "def fact(n):\n",
    "    res = []\n",
    "    return res"
   ]
  },
  {
   "cell_type": "markdown",
   "metadata": {},
   "source": [
    "## Task: создать функцию, которая возвращает n первых членов последовальности Fibonacci\n",
    "    \n",
    "    fib(7)\n",
    "    \n",
    "    [0, 1, 1, 2, 3, 5, 8, 13]"
   ]
  },
  {
   "cell_type": "code",
   "execution_count": 11,
   "metadata": {},
   "outputs": [],
   "source": [
    "class TestFib(unittest.TestCase):\n",
    "    \"\"\"test factorial functions\"\"\"\n",
    "    \n",
    "    def test1(self):\n",
    "        self.assertEqual(fib(2), [0, 1]) \n",
    "        self.assertEqual(fib(4), [0, 1, 1, 2]) \n",
    "        self.assertEqual(fib(8), [0, 1, 1, 2, 3, 5, 8, 13]) \n",
    "        "
   ]
  },
  {
   "cell_type": "code",
   "execution_count": 12,
   "metadata": {},
   "outputs": [
    {
     "name": "stderr",
     "output_type": "stream",
     "text": [
      "FE\n",
      "======================================================================\n",
      "ERROR: test1 (__main__.TestFib)\n",
      "----------------------------------------------------------------------\n",
      "Traceback (most recent call last):\n",
      "  File \"<ipython-input-11-5d6701587591>\", line 5, in test1\n",
      "    self.assertEqual(fib(2), [0, 1])\n",
      "NameError: name 'fib' is not defined\n",
      "\n",
      "======================================================================\n",
      "FAIL: test1 (__main__.TestFact)\n",
      "----------------------------------------------------------------------\n",
      "Traceback (most recent call last):\n",
      "  File \"<ipython-input-10-c40ce584bd0e>\", line 6, in test1\n",
      "    self.assertEqual(fact(0), [1])\n",
      "AssertionError: Lists differ: [] != [1]\n",
      "\n",
      "Second list contains 1 additional elements.\n",
      "First extra element 0:\n",
      "1\n",
      "\n",
      "- []\n",
      "+ [1]\n",
      "?  +\n",
      "\n",
      "\n",
      "----------------------------------------------------------------------\n",
      "Ran 2 tests in 0.002s\n",
      "\n",
      "FAILED (failures=1, errors=1)\n"
     ]
    }
   ],
   "source": [
    "if __name__ == '__main__':\n",
    "    unittest.main(argv=['first-arg-is-ignored'], exit=False)"
   ]
  },
  {
   "cell_type": "code",
   "execution_count": null,
   "metadata": {},
   "outputs": [],
   "source": []
  }
 ],
 "metadata": {
  "kernelspec": {
   "display_name": "Python 3",
   "language": "python",
   "name": "python3"
  },
  "language_info": {
   "codemirror_mode": {
    "name": "ipython",
    "version": 3
   },
   "file_extension": ".py",
   "mimetype": "text/x-python",
   "name": "python",
   "nbconvert_exporter": "python",
   "pygments_lexer": "ipython3",
   "version": "3.6.5"
  }
 },
 "nbformat": 4,
 "nbformat_minor": 2
}
