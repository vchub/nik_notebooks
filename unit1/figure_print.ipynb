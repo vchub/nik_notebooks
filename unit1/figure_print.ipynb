{
 "cells": [
  {
   "cell_type": "markdown",
   "metadata": {},
   "source": [
    "# Functions, Loops and print"
   ]
  },
  {
   "cell_type": "markdown",
   "metadata": {},
   "source": [
    "#### Define a function that returns a number"
   ]
  },
  {
   "cell_type": "code",
   "execution_count": 2,
   "metadata": {},
   "outputs": [],
   "source": [
    "# add 2 to an argument\n",
    "def add_two(x):\n",
    "    return x + 2\n"
   ]
  },
  {
   "cell_type": "markdown",
   "metadata": {},
   "source": [
    "#### call / execute function"
   ]
  },
  {
   "cell_type": "code",
   "execution_count": 3,
   "metadata": {},
   "outputs": [
    {
     "data": {
      "text/plain": [
       "13"
      ]
     },
     "execution_count": 3,
     "metadata": {},
     "output_type": "execute_result"
    }
   ],
   "source": [
    "add_two(11)"
   ]
  },
  {
   "cell_type": "markdown",
   "metadata": {},
   "source": [
    "#### Define a function that prints and returns None"
   ]
  },
  {
   "cell_type": "code",
   "execution_count": 8,
   "metadata": {},
   "outputs": [],
   "source": [
    "# print n lines of arguments\n",
    "# return None\n",
    "def print_n(x, n):\n",
    "    line = str(x) * 13\n",
    "    i = 0\n",
    "\n",
    "    print('start:')\n",
    "\n",
    "    while i < n:\n",
    "        print(line)\n",
    "        i = i + 1\n",
    "\n"
   ]
  },
  {
   "cell_type": "code",
   "execution_count": 11,
   "metadata": {},
   "outputs": [
    {
     "name": "stdout",
     "output_type": "stream",
     "text": [
      "start:\n",
      "ahahahahahahahahahahahahah\n",
      "ahahahahahahahahahahahahah\n",
      "ahahahahahahahahahahahahah\n",
      "ahahahahahahahahahahahahah\n",
      "ahahahahahahahahahahahahah\n",
      "ahahahahahahahahahahahahah\n",
      "ahahahahahahahahahahahahah\n",
      "ahahahahahahahahahahahahah\n",
      "ahahahahahahahahahahahahah\n",
      "ahahahahahahahahahahahahah\n"
     ]
    }
   ],
   "source": [
    "print_n('ah', 10)"
   ]
  },
  {
   "cell_type": "markdown",
   "metadata": {},
   "source": [
    "#### right angle triangle example"
   ]
  },
  {
   "cell_type": "code",
   "execution_count": 16,
   "metadata": {},
   "outputs": [
    {
     "name": "stdout",
     "output_type": "stream",
     "text": [
      "ahahahahahahahahahaha\n",
      "ahahahahahahahahahahaahahahahahahahahahaha\n",
      "ahahahahahahahahahahaahahahahahahahahahahaahahahahahahahahahaha\n",
      "ahahahahahahahahahahaahahahahahahahahahahaahahahahahahahahahahaahahahahahahahahahaha\n",
      "ahahahahahahahahahahaahahahahahahahahahahaahahahahahahahahahahaahahahahahahahahahahaahahahahahahahahahaha\n",
      "ahahahahahahahahahahaahahahahahahahahahahaahahahahahahahahahahaahahahahahahahahahahaahahahahahahahahahahaahahahahahahahahahaha\n",
      "ahahahahahahahahahahaahahahahahahahahahahaahahahahahahahahahahaahahahahahahahahahahaahahahahahahahahahahaahahahahahahahahahahaahahahahahahahahahaha\n"
     ]
    }
   ],
   "source": [
    "line = ''\n",
    "for i in range(7):\n",
    "    line = line + 'ahahahahahahahahahaha'\n",
    "    print(line)\n",
    "\n"
   ]
  },
  {
   "cell_type": "markdown",
   "metadata": {},
   "source": [
    "## Task: make function square(s, n, m) \n",
    "s - используемый знак\n",
    "\n",
    "m - количество строк (высота прямоугольника)\n",
    "\n",
    "n - ширина\n",
    "\n",
    "square('*', 5, 4) должен напечатать прямоугольник со сторонам 5 4"
   ]
  },
  {
   "cell_type": "raw",
   "metadata": {},
   "source": [
    "*****\n",
    "*   *\n",
    "*   *\n",
    "*   *\n",
    "*   *\n",
    "*****"
   ]
  },
  {
   "cell_type": "code",
   "execution_count": 34,
   "metadata": {},
   "outputs": [],
   "source": [
    "def square(s, n, m):\n",
    "    print(s*n)\n",
    "    for i in range(m-2):\n",
    "        print(s,\" \"*(n-4),s)\n",
    "    print(s*n)"
   ]
  },
  {
   "cell_type": "code",
   "execution_count": 36,
   "metadata": {},
   "outputs": [
    {
     "name": "stdout",
     "output_type": "stream",
     "text": [
      "+_+_+_+_+_\n",
      "+_   +_\n",
      "+_   +_\n",
      "+_+_+_+_+_\n"
     ]
    }
   ],
   "source": [
    "square(\"+_\", 5, 4)"
   ]
  },
  {
   "cell_type": "markdown",
   "metadata": {},
   "source": [
    "## Task: make function triangle(s, n) \n",
    "s - используемый знак\n",
    "\n",
    "n - количество строк (высота треугольника)\n",
    "\n",
    "triangle('*', 5) должен напечатать равнобедренный треугольник"
   ]
  },
  {
   "cell_type": "raw",
   "metadata": {},
   "source": [
    "     *\n",
    "    ***\n",
    "   *****\n",
    "  *******\n",
    " *********\n",
    " "
   ]
  },
  {
   "cell_type": "code",
   "execution_count": 3,
   "metadata": {},
   "outputs": [],
   "source": [
    "def triangle(s, n):\n",
    "    line= s\n",
    "    for i in range(n):\n",
    "        print(\" \"* (n- i), line)\n",
    "        line=line + s * 2\n",
    "\n"
   ]
  },
  {
   "cell_type": "code",
   "execution_count": 4,
   "metadata": {},
   "outputs": [
    {
     "name": "stdout",
     "output_type": "stream",
     "text": [
      "              *\n",
      "             ***\n",
      "            *****\n",
      "           *******\n",
      "          *********\n",
      "         ***********\n",
      "        *************\n",
      "       ***************\n",
      "      *****************\n",
      "     *******************\n",
      "    *********************\n",
      "   ***********************\n",
      "  *************************\n"
     ]
    }
   ],
   "source": [
    "triangle(\"*\",13)"
   ]
  },
  {
   "cell_type": "code",
   "execution_count": null,
   "metadata": {},
   "outputs": [],
   "source": []
  }
 ],
 "metadata": {
  "kernelspec": {
   "display_name": "Python 3",
   "language": "python",
   "name": "python3"
  },
  "language_info": {
   "codemirror_mode": {
    "name": "ipython",
    "version": 3
   },
   "file_extension": ".py",
   "mimetype": "text/x-python",
   "name": "python",
   "nbconvert_exporter": "python",
   "pygments_lexer": "ipython3",
   "version": "3.6.4"
  }
 },
 "nbformat": 4,
 "nbformat_minor": 2
}
