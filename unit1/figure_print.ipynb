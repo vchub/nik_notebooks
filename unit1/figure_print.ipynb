{
 "cells": [
  {
   "cell_type": "markdown",
   "metadata": {},
   "source": [
    "# Functions, Loops and print"
   ]
  },
  {
   "cell_type": "markdown",
   "metadata": {},
   "source": [
    "#### Define a function that returns a number"
   ]
  },
  {
   "cell_type": "code",
   "execution_count": 11,
   "metadata": {},
   "outputs": [],
   "source": [
    "# add 2 to an argument\n",
    "def add_two(x):\n",
    "    return x + 2\n"
   ]
  },
  {
   "cell_type": "markdown",
   "metadata": {},
   "source": [
    "#### call / execute function"
   ]
  },
  {
   "cell_type": "code",
   "execution_count": 12,
   "metadata": {},
   "outputs": [
    {
     "data": {
      "text/plain": [
       "7"
      ]
     },
     "execution_count": 12,
     "metadata": {},
     "output_type": "execute_result"
    }
   ],
   "source": [
    "add_two(5)"
   ]
  },
  {
   "cell_type": "markdown",
   "metadata": {},
   "source": [
    "#### Define a function that prints and returns None"
   ]
  },
  {
   "cell_type": "code",
   "execution_count": 13,
   "metadata": {},
   "outputs": [],
   "source": [
    "# print n lines of arguments\n",
    "# return None\n",
    "def print_n(x, n):\n",
    "    line = str(x) * 10\n",
    "    i = 0\n",
    "\n",
    "    print('start:')\n",
    "\n",
    "    while i < n:\n",
    "        print(line)\n",
    "        i = i + 1\n",
    "\n"
   ]
  },
  {
   "cell_type": "code",
   "execution_count": 14,
   "metadata": {},
   "outputs": [
    {
     "name": "stdout",
     "output_type": "stream",
     "text": [
      "start:\n",
      "**********\n",
      "**********\n",
      "**********\n",
      "**********\n"
     ]
    }
   ],
   "source": [
    "print_n('*', 4)"
   ]
  },
  {
   "cell_type": "markdown",
   "metadata": {},
   "source": [
    "#### right angle triangle example"
   ]
  },
  {
   "cell_type": "code",
   "execution_count": 15,
   "metadata": {},
   "outputs": [
    {
     "name": "stdout",
     "output_type": "stream",
     "text": [
      "a\n",
      "aa\n",
      "aaa\n",
      "aaaa\n",
      "aaaaa\n"
     ]
    }
   ],
   "source": [
    "line = ''\n",
    "for i in range(5):\n",
    "    line = line + 'a'\n",
    "    print(line)\n",
    "\n"
   ]
  },
  {
   "cell_type": "markdown",
   "metadata": {},
   "source": [
    "## Task: make function square(s, n, m) \n",
    "s - используемый знак\n",
    "\n",
    "m - количество строк (высота прямоугольника)\n",
    "\n",
    "n - ширина\n",
    "\n",
    "square('*', 5, 4) должен напечатать прямоугольник со сторонам 5 4"
   ]
  },
  {
   "cell_type": "raw",
   "metadata": {},
   "source": [
    "*****\n",
    "*   *\n",
    "*   *\n",
    "*   *\n",
    "*   *\n",
    "*****"
   ]
  },
  {
   "cell_type": "markdown",
   "metadata": {},
   "source": [
    "## Task: make function triangle(s, n) \n",
    "s - используемый знак\n",
    "\n",
    "n - количество строк (высота треугольника)\n",
    "\n",
    "triangle('*', 5) должен напечатать равнобедренный треугольник"
   ]
  },
  {
   "cell_type": "raw",
   "metadata": {},
   "source": [
    "     *\n",
    "    ***\n",
    "   *****\n",
    "  *******\n",
    " *********\n",
    " "
   ]
  },
  {
   "cell_type": "code",
   "execution_count": null,
   "metadata": {},
   "outputs": [],
   "source": []
  }
 ],
 "metadata": {
  "kernelspec": {
   "display_name": "Python 3",
   "language": "python",
   "name": "python3"
  },
  "language_info": {
   "codemirror_mode": {
    "name": "ipython",
    "version": 3
   },
   "file_extension": ".py",
   "mimetype": "text/x-python",
   "name": "python",
   "nbconvert_exporter": "python",
   "pygments_lexer": "ipython3",
   "version": "3.6.5"
  }
 },
 "nbformat": 4,
 "nbformat_minor": 2
}
